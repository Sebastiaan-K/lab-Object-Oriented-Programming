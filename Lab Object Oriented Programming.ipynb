{
 "cells": [
  {
   "cell_type": "code",
   "execution_count": 5,
   "id": "537e4979",
   "metadata": {},
   "outputs": [
    {
     "name": "stdout",
     "output_type": "stream",
     "text": [
      "Tv(on=True, volume=60, channel=5, input=HDMI1, size=42)\n"
     ]
    }
   ],
   "source": [
    "class Tv:\n",
    "    def __init__(self, size=42):       \n",
    "        self.on = False\n",
    "        self.volume = 50.0\n",
    "        self.active_channel = 1\n",
    "        self.input = \"Anthena\"\n",
    "        \n",
    "       \n",
    "        if size in [42, 50, 55, 65, 75]:\n",
    "            self.size = size\n",
    "        else:\n",
    "            self.size = 42\n",
    "\n",
    "    def switch_on(self):\n",
    "        self.on = True\n",
    "\n",
    "    def switch_off(self):\n",
    "        self.on = False\n",
    "\n",
    "    def set_volume(self, volume):       \n",
    "        if 0 <= volume <= 100:\n",
    "            self.volume = volume\n",
    "\n",
    "    def change_channel(self, channel):        \n",
    "        if 1 <= channel <= 10:\n",
    "            self.active_channel = channel\n",
    "\n",
    "    def set_input(self, value):        \n",
    "        if value in [\"Anthena\", \"HDMI1\", \"HDMI2\", \"HDMI3\"]:\n",
    "            self.input = value\n",
    "\n",
    "   \n",
    "    def __repr__(self):\n",
    "        return f\"Tv(on={self.on}, volume={self.volume}, channel={self.active_channel}, input={self.input}, size={self.size})\"\n",
    "\n",
    "\n",
    "tv = Tv()\n",
    "tv.switch_on()\n",
    "tv.set_volume(60)\n",
    "tv.change_channel(5)\n",
    "tv.set_input(\"HDMI1\")\n",
    "print(tv)\n"
   ]
  },
  {
   "cell_type": "code",
   "execution_count": null,
   "id": "29749fd3",
   "metadata": {},
   "outputs": [],
   "source": []
  }
 ],
 "metadata": {
  "kernelspec": {
   "display_name": "Python 3 (ipykernel)",
   "language": "python",
   "name": "python3"
  },
  "language_info": {
   "codemirror_mode": {
    "name": "ipython",
    "version": 3
   },
   "file_extension": ".py",
   "mimetype": "text/x-python",
   "name": "python",
   "nbconvert_exporter": "python",
   "pygments_lexer": "ipython3",
   "version": "3.11.5"
  },
  "toc": {
   "base_numbering": 1,
   "nav_menu": {},
   "number_sections": true,
   "sideBar": true,
   "skip_h1_title": false,
   "title_cell": "Table of Contents",
   "title_sidebar": "Contents",
   "toc_cell": false,
   "toc_position": {},
   "toc_section_display": true,
   "toc_window_display": false
  }
 },
 "nbformat": 4,
 "nbformat_minor": 5
}
